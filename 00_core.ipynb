{
 "cells": [
  {
   "cell_type": "code",
   "execution_count": 51,
   "source": [
    "# default_exp core"
   ],
   "outputs": [],
   "metadata": {}
  },
  {
   "cell_type": "markdown",
   "source": [
    "# WorldWideNewsMap\n",
    "\n",
    "> Fetches the news all around the world"
   ],
   "metadata": {}
  },
  {
   "cell_type": "code",
   "execution_count": 52,
   "source": [
    "#hide\n",
    "from nbdev.showdoc import *"
   ],
   "outputs": [],
   "metadata": {}
  },
  {
   "cell_type": "code",
   "execution_count": 53,
   "source": [
    "class WorldWideNews:\n",
    "    \"\"\"\n",
    "    \n",
    "    \"\"\"\n",
    "    def __init__(self,keywords:list,regions:list,output_language:str='en') -> None:\n",
    "        self.keywords = keywords\n",
    "        self.regions = regions\n",
    "        self.output_language = output_language\n",
    "\n",
    "    def translate_keywords(self)-> List[KeywordsPerMarket]:\n",
    "        \n",
    "\n",
    "    def fetch_articles(self):\n"
   ],
   "outputs": [
    {
     "output_type": "error",
     "ename": "IndentationError",
     "evalue": "expected an indented block (1780520270.py, line 13)",
     "traceback": [
      "\u001b[0;36m  File \u001b[0;32m\"/var/folders/56/3w3mrqc10cj7_lf2zs9gsq600000gn/T/ipykernel_4312/1780520270.py\"\u001b[0;36m, line \u001b[0;32m13\u001b[0m\n\u001b[0;31m    def fetch_articles(self):\u001b[0m\n\u001b[0m      ^\u001b[0m\n\u001b[0;31mIndentationError\u001b[0m\u001b[0;31m:\u001b[0m expected an indented block\n"
     ]
    }
   ],
   "metadata": {}
  },
  {
   "cell_type": "code",
   "execution_count": null,
   "source": [
    "\n"
   ],
   "outputs": [],
   "metadata": {}
  },
  {
   "cell_type": "markdown",
   "source": [
    "# Article baseclass definition"
   ],
   "metadata": {}
  },
  {
   "cell_type": "code",
   "execution_count": 1,
   "source": [
    "from pydantic.dataclasses import dataclass\n",
    "from pydantic import HttpUrl\n",
    "from datetime import datetime\n",
    "\n",
    "@dataclass\n",
    "class Article:\n",
    "    title: str\n",
    "    summary: str\n",
    "    text:str\n",
    "    publication_date: datetime\n",
    "    source:str\n",
    "    url: HttpUrl\n",
    "    img_url: HttpUrl\n",
    "    tags:list\n",
    "    region:str\n",
    "    language:str"
   ],
   "outputs": [],
   "metadata": {}
  },
  {
   "cell_type": "code",
   "execution_count": 2,
   "source": [
    "import pandas as pd\n"
   ],
   "outputs": [],
   "metadata": {}
  },
  {
   "cell_type": "code",
   "execution_count": null,
   "source": [
    "from GoogleNews import GoogleNews"
   ],
   "outputs": [],
   "metadata": {}
  },
  {
   "cell_type": "markdown",
   "source": [
    "# Translating the keywords into all languages"
   ],
   "metadata": {}
  },
  {
   "cell_type": "code",
   "execution_count": 3,
   "source": [
    "import asyncio\n",
    "from async_google_trans_new import AsyncTranslator\n",
    "from unsync import unsync\n",
    "import aiohttp\n",
    "import backoff\n",
    "\n",
    "\n",
    "class KeywordsPerMarket:\n",
    "\n",
    "    def __init__(self,input_keywords:list,region:str,language:str,input_language:str='en'):\n",
    "        self.input_keywords = input_keywords\n",
    "        self.region = region\n",
    "        self.language = language\n",
    "        self.market = f\"{language}-{region}\"\n",
    "        self.input_language = input_language\n",
    "\n",
    "    @property\n",
    "    def keywords(self):\n",
    "        \n",
    "        @unsync\n",
    "        @backoff.on_exception(backoff.expo, aiohttp.ClientError, max_time=60)\n",
    "        async def translate_keywords(input_keywords:list,target_language:str,input_language:str):\n",
    "            translator = AsyncTranslator(url_suffix='com')\n",
    "            tasks = [translator.translate(keyword,lang_tgt=target_language,lang_src=input_language) for keyword in input_keywords]\n",
    "            return await asyncio.gather(*tasks)\n",
    "\n",
    "        return translate_keywords(self.input_keywords,self.language,self.input_language).result()\n",
    "\n",
    "\n",
    "keyword = KeywordsPerMarket(['Hello world','evening'], region='nl',language='nl')\n",
    "keyword.market\n",
    "keyword.keywords"
   ],
   "outputs": [
    {
     "output_type": "execute_result",
     "data": {
      "text/plain": [
       "['Hallo Wereld ', 'avond ']"
      ]
     },
     "metadata": {},
     "execution_count": 3
    }
   ],
   "metadata": {}
  },
  {
   "cell_type": "markdown",
   "source": [
    " Translate some keywords to multiple languages"
   ],
   "metadata": {}
  },
  {
   "cell_type": "code",
   "execution_count": 4,
   "source": [
    "from pydantic import BaseModel,ComputedField,computed_field\n",
    "import asyncio\n",
    "from async_google_trans_new import AsyncTranslator\n",
    "from unsync import unsync\n",
    "import aiohttp\n",
    "import backoff\n",
    "\n",
    "class KeywordsPerMarket(BaseModel):\n",
    "    input_keywords:list \n",
    "    region:str \n",
    "    language:str\n",
    "    market = ComputedField(lambda self:f\"{self.language}-{self.region}\")\n",
    "    input_language:str = 'en'\n",
    "\n",
    "    @computed_field\n",
    "    @property\n",
    "    def keywords(self):\n",
    "        \n",
    "        @unsync\n",
    "        @backoff.on_exception(backoff.expo, aiohttp.ClientError, max_time=60)\n",
    "        async def translate_keywords(input_keywords:list,target_language:str,input_language:str):\n",
    "            translator = AsyncTranslator(url_suffix='com')\n",
    "            tasks = [translator.translate(keyword,lang_tgt=target_language,lang_src=input_language) for keyword in input_keywords]\n",
    "            return await asyncio.gather(*tasks)\n",
    "\n",
    "        return translate_keywords(self.input_keywords,self.language,self.input_language).result()"
   ],
   "outputs": [],
   "metadata": {}
  },
  {
   "cell_type": "code",
   "execution_count": 5,
   "source": [
    "keywords = ['aviation','airlines','flight','airplane']\n",
    "languages = ['es','nl','de','fr']\n",
    "\n",
    "keywords_per_market = [KeywordsPerMarket(input_keywords=keywords,language=language,region='') for language in languages]"
   ],
   "outputs": [],
   "metadata": {}
  },
  {
   "cell_type": "code",
   "execution_count": 6,
   "source": [
    "keywords_per_market"
   ],
   "outputs": [
    {
     "output_type": "execute_result",
     "data": {
      "text/plain": [
       "[KeywordsPerMarket(input_keywords=['aviation', 'airlines', 'flight', 'airplane'], region='', language='es', input_language='en'),\n",
       " KeywordsPerMarket(input_keywords=['aviation', 'airlines', 'flight', 'airplane'], region='', language='nl', input_language='en'),\n",
       " KeywordsPerMarket(input_keywords=['aviation', 'airlines', 'flight', 'airplane'], region='', language='de', input_language='en'),\n",
       " KeywordsPerMarket(input_keywords=['aviation', 'airlines', 'flight', 'airplane'], region='', language='fr', input_language='en')]"
      ]
     },
     "metadata": {},
     "execution_count": 6
    }
   ],
   "metadata": {}
  },
  {
   "cell_type": "code",
   "execution_count": 66,
   "source": [
    "KeywordsPerMarket(input_keywords=keywords,language='nl',region='').keywords\n"
   ],
   "outputs": [
    {
     "output_type": "execute_result",
     "data": {
      "text/plain": [
       "['luchtvaart ', 'luchtvaartmaatschappijen ', 'vlucht ', 'vliegtuig ']"
      ]
     },
     "metadata": {},
     "execution_count": 66
    }
   ],
   "metadata": {}
  },
  {
   "cell_type": "code",
   "execution_count": null,
   "source": [
    "import pandas as pd \n",
    "\n",
    "# \n",
    "pd.DataFrame([{'keyword':kpm.keywords,'language':kpm.language} for kpm in keywords_per_market])"
   ],
   "outputs": [
    {
     "output_type": "execute_result",
     "data": {
      "text/plain": [
       "                                             keyword language\n",
       "0           [aviación , aerolíneas , vuelo , avión ]       es\n",
       "1  [luchtvaart , luchtvaartmaatschappijen , vluch...       nl\n",
       "2        [Luftfahrt , Fluglinien , Flug , Flugzeug ]       de\n",
       "3   [aviation , compagnies aériennes , vol , avion ]       fr"
      ],
      "text/html": [
       "<div>\n",
       "<style scoped>\n",
       "    .dataframe tbody tr th:only-of-type {\n",
       "        vertical-align: middle;\n",
       "    }\n",
       "\n",
       "    .dataframe tbody tr th {\n",
       "        vertical-align: top;\n",
       "    }\n",
       "\n",
       "    .dataframe thead th {\n",
       "        text-align: right;\n",
       "    }\n",
       "</style>\n",
       "<table border=\"1\" class=\"dataframe\">\n",
       "  <thead>\n",
       "    <tr style=\"text-align: right;\">\n",
       "      <th></th>\n",
       "      <th>keyword</th>\n",
       "      <th>language</th>\n",
       "    </tr>\n",
       "  </thead>\n",
       "  <tbody>\n",
       "    <tr>\n",
       "      <th>0</th>\n",
       "      <td>[aviación , aerolíneas , vuelo , avión ]</td>\n",
       "      <td>es</td>\n",
       "    </tr>\n",
       "    <tr>\n",
       "      <th>1</th>\n",
       "      <td>[luchtvaart , luchtvaartmaatschappijen , vluch...</td>\n",
       "      <td>nl</td>\n",
       "    </tr>\n",
       "    <tr>\n",
       "      <th>2</th>\n",
       "      <td>[Luftfahrt , Fluglinien , Flug , Flugzeug ]</td>\n",
       "      <td>de</td>\n",
       "    </tr>\n",
       "    <tr>\n",
       "      <th>3</th>\n",
       "      <td>[aviation , compagnies aériennes , vol , avion ]</td>\n",
       "      <td>fr</td>\n",
       "    </tr>\n",
       "  </tbody>\n",
       "</table>\n",
       "</div>"
      ]
     },
     "metadata": {},
     "execution_count": 46
    }
   ],
   "metadata": {}
  },
  {
   "cell_type": "code",
   "execution_count": 57,
   "source": [
    "from datetime import datetime\n",
    "from pydantic.dataclasses import dataclass\n",
    "from pydantic import BaseModel\n",
    "\n",
    "\n",
    "\n",
    "class User(BaseModel):\n",
    "    id: int\n",
    "    name: str = 'John Doe'\n",
    "    signup_ts: datetime = None\n",
    "\n",
    "\n",
    "user = User(id='42', signup_ts='2032-06-21T12:00')\n",
    "print(user)"
   ],
   "outputs": [
    {
     "output_type": "stream",
     "name": "stdout",
     "text": [
      "id=42 name='John Doe' signup_ts=datetime.datetime(2032, 6, 21, 12, 0)\n"
     ]
    }
   ],
   "metadata": {}
  },
  {
   "cell_type": "code",
   "execution_count": 59,
   "source": [
    "pd.DataFrame([user,user])"
   ],
   "outputs": [
    {
     "output_type": "execute_result",
     "data": {
      "text/plain": [
       "          0                 1                                 2\n",
       "0  (id, 42)  (name, John Doe)  (signup_ts, 2032-06-21 12:00:00)\n",
       "1  (id, 42)  (name, John Doe)  (signup_ts, 2032-06-21 12:00:00)"
      ],
      "text/html": [
       "<div>\n",
       "<style scoped>\n",
       "    .dataframe tbody tr th:only-of-type {\n",
       "        vertical-align: middle;\n",
       "    }\n",
       "\n",
       "    .dataframe tbody tr th {\n",
       "        vertical-align: top;\n",
       "    }\n",
       "\n",
       "    .dataframe thead th {\n",
       "        text-align: right;\n",
       "    }\n",
       "</style>\n",
       "<table border=\"1\" class=\"dataframe\">\n",
       "  <thead>\n",
       "    <tr style=\"text-align: right;\">\n",
       "      <th></th>\n",
       "      <th>0</th>\n",
       "      <th>1</th>\n",
       "      <th>2</th>\n",
       "    </tr>\n",
       "  </thead>\n",
       "  <tbody>\n",
       "    <tr>\n",
       "      <th>0</th>\n",
       "      <td>(id, 42)</td>\n",
       "      <td>(name, John Doe)</td>\n",
       "      <td>(signup_ts, 2032-06-21 12:00:00)</td>\n",
       "    </tr>\n",
       "    <tr>\n",
       "      <th>1</th>\n",
       "      <td>(id, 42)</td>\n",
       "      <td>(name, John Doe)</td>\n",
       "      <td>(signup_ts, 2032-06-21 12:00:00)</td>\n",
       "    </tr>\n",
       "  </tbody>\n",
       "</table>\n",
       "</div>"
      ]
     },
     "metadata": {},
     "execution_count": 59
    }
   ],
   "metadata": {}
  },
  {
   "cell_type": "code",
   "execution_count": 8,
   "source": [
    "import pandas as pd\n",
    "pd.DataFrame([KeywordsPerMarket(input_keywords=keywords,language=language,region='').dict() for language in languages])"
   ],
   "outputs": [
    {
     "output_type": "error",
     "ename": "TypeError",
     "evalue": "__init__() takes 1 positional argument but 2 were given",
     "traceback": [
      "\u001b[0;31m---------------------------------------------------------------------------\u001b[0m",
      "\u001b[0;31mTypeError\u001b[0m                                 Traceback (most recent call last)",
      "\u001b[0;32m/var/folders/56/3w3mrqc10cj7_lf2zs9gsq600000gn/T/ipykernel_99717/3810178106.py\u001b[0m in \u001b[0;36m<module>\u001b[0;34m\u001b[0m\n\u001b[1;32m      1\u001b[0m \u001b[0;32mimport\u001b[0m \u001b[0mpandas\u001b[0m \u001b[0;32mas\u001b[0m \u001b[0mpd\u001b[0m\u001b[0;34m\u001b[0m\u001b[0;34m\u001b[0m\u001b[0m\n\u001b[0;32m----> 2\u001b[0;31m \u001b[0mpd\u001b[0m\u001b[0;34m.\u001b[0m\u001b[0mDataFrame\u001b[0m\u001b[0;34m(\u001b[0m\u001b[0;34m[\u001b[0m\u001b[0mKeywordsPerMarket\u001b[0m\u001b[0;34m(\u001b[0m\u001b[0mkeywords\u001b[0m\u001b[0;34m,\u001b[0m\u001b[0mlanguage\u001b[0m\u001b[0;34m=\u001b[0m\u001b[0mlanguage\u001b[0m\u001b[0;34m,\u001b[0m\u001b[0mregion\u001b[0m\u001b[0;34m=\u001b[0m\u001b[0;34m''\u001b[0m\u001b[0;34m)\u001b[0m\u001b[0;34m.\u001b[0m\u001b[0mdict\u001b[0m\u001b[0;34m(\u001b[0m\u001b[0;34m)\u001b[0m \u001b[0;32mfor\u001b[0m \u001b[0mlanguage\u001b[0m \u001b[0;32min\u001b[0m \u001b[0mlanguages\u001b[0m\u001b[0;34m]\u001b[0m\u001b[0;34m)\u001b[0m\u001b[0;34m\u001b[0m\u001b[0;34m\u001b[0m\u001b[0m\n\u001b[0m",
      "\u001b[0;32m/var/folders/56/3w3mrqc10cj7_lf2zs9gsq600000gn/T/ipykernel_99717/3810178106.py\u001b[0m in \u001b[0;36m<listcomp>\u001b[0;34m(.0)\u001b[0m\n\u001b[1;32m      1\u001b[0m \u001b[0;32mimport\u001b[0m \u001b[0mpandas\u001b[0m \u001b[0;32mas\u001b[0m \u001b[0mpd\u001b[0m\u001b[0;34m\u001b[0m\u001b[0;34m\u001b[0m\u001b[0m\n\u001b[0;32m----> 2\u001b[0;31m \u001b[0mpd\u001b[0m\u001b[0;34m.\u001b[0m\u001b[0mDataFrame\u001b[0m\u001b[0;34m(\u001b[0m\u001b[0;34m[\u001b[0m\u001b[0mKeywordsPerMarket\u001b[0m\u001b[0;34m(\u001b[0m\u001b[0mkeywords\u001b[0m\u001b[0;34m,\u001b[0m\u001b[0mlanguage\u001b[0m\u001b[0;34m=\u001b[0m\u001b[0mlanguage\u001b[0m\u001b[0;34m,\u001b[0m\u001b[0mregion\u001b[0m\u001b[0;34m=\u001b[0m\u001b[0;34m''\u001b[0m\u001b[0;34m)\u001b[0m\u001b[0;34m.\u001b[0m\u001b[0mdict\u001b[0m\u001b[0;34m(\u001b[0m\u001b[0;34m)\u001b[0m \u001b[0;32mfor\u001b[0m \u001b[0mlanguage\u001b[0m \u001b[0;32min\u001b[0m \u001b[0mlanguages\u001b[0m\u001b[0;34m]\u001b[0m\u001b[0;34m)\u001b[0m\u001b[0;34m\u001b[0m\u001b[0;34m\u001b[0m\u001b[0m\n\u001b[0m",
      "\u001b[0;31mTypeError\u001b[0m: __init__() takes 1 positional argument but 2 were given"
     ]
    }
   ],
   "metadata": {}
  },
  {
   "cell_type": "code",
   "execution_count": null,
   "source": [],
   "outputs": [],
   "metadata": {}
  }
 ],
 "metadata": {
  "kernelspec": {
   "name": "python3",
   "display_name": "Python 3.7.10 64-bit ('.venv': poetry)"
  },
  "language_info": {
   "name": "python",
   "version": "3.7.10",
   "mimetype": "text/x-python",
   "codemirror_mode": {
    "name": "ipython",
    "version": 3
   },
   "pygments_lexer": "ipython3",
   "nbconvert_exporter": "python",
   "file_extension": ".py"
  },
  "interpreter": {
   "hash": "7512a610ba7d835128c008e06cef0f3ddef04a1421ea10f92ab8258a8df0ebcc"
  }
 },
 "nbformat": 4,
 "nbformat_minor": 2
}